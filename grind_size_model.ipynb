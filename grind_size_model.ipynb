{
  "nbformat": 4,
  "nbformat_minor": 0,
  "metadata": {
    "colab": {
      "name": "grind_size_model.ipynb",
      "provenance": [],
      "collapsed_sections": [],
      "authorship_tag": "ABX9TyMO4nIPZ/8H2+6uBrvGz2zS"
    },
    "kernelspec": {
      "name": "python3",
      "display_name": "Python 3"
    },
    "language_info": {
      "name": "python"
    }
  },
  "cells": [
    {
      "cell_type": "markdown",
      "source": [
        "# Grind Size Classification Model"
      ],
      "metadata": {
        "id": "8rgVyup3-RWy"
      }
    },
    {
      "cell_type": "markdown",
      "source": [
        "The primary job of mineral processing plants is to crush/grind the crude ore to a targetted grind size and use the flotation process to separate the valuable metals from the tailings (wastes).\n",
        "\n",
        "Most of the plant's process data are monitored online, but there are still some that are sampled and measured manually due to technological/economical limitations. For instance, after the grinding process, the fine ore's particle size distribution (grind size) is only measured once a day with a manual sampling scoop. The grind size is a crucial parameter that will affect the downstream flotation kinetics if it is not on target. In general, when the size is too coarse (big), valuable metal recovery is reduced. When the size is too fine (small), too much waste would be recovered, which affects metal purity. Whenever there is a problem in the process, the process engineer would not be able to immediately verify the grind size, as it takes several hours to sample and measure the grind size distribution manually.\n"
      ],
      "metadata": {
        "id": "oIfOKi-s7chh"
      }
    },
    {
      "cell_type": "markdown",
      "source": [
        "The purpose of this model is to predict whether the mineral processing plant's grinding circuit output is too coarse, on target, or too fine, using the plant's online data of various process parameters (eg. mill power output, mill tonnage, minerals' chemical compositions, type of ore processed, cyclone pressure, number of cyclones online, etc). The online data (features) are monitored continuously with OSIsoft's PI System. They are downloaded to Excel with Pi Datalink. There will be mostly numerical + some categorical features.\n",
        "The daily grind size data (label) has been recorded in an Excel Spreadsheet since 2013.\n",
        "\n",
        "As the residence time of the grinding circuit is around 30-60 min, each instance in the dataset would have a grind size of a daily sample + the average of online data in the hour prior to when the sample was taken."
      ],
      "metadata": {
        "id": "6lBiBBkE8MGS"
      }
    },
    {
      "cell_type": "markdown",
      "source": [
        "For confidentiality reasons, the plant name and the raw dataset cannot be shared."
      ],
      "metadata": {
        "id": "DLgGajn79qiK"
      }
    },
    {
      "cell_type": "markdown",
      "source": [
        "## Data Upload"
      ],
      "metadata": {
        "id": "1c0FI_cFBUor"
      }
    },
    {
      "cell_type": "code",
      "source": [
        "### Import libraries that will be used throughout the code\n",
        "import numpy as np\n",
        "import pandas as pd\n",
        "import matplotlib.pyplot as plt\n",
        "from matplotlib.colors import ListedColormap"
      ],
      "metadata": {
        "id": "rjlQ2rjZ862S"
      },
      "execution_count": null,
      "outputs": []
    },
    {
      "cell_type": "code",
      "execution_count": null,
      "metadata": {
        "colab": {
          "resources": {
            "http://localhost:8080/nbextensions/google.colab/files.js": {
              "data": "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",
              "ok": true,
              "headers": [
                [
                  "content-type",
                  "application/javascript"
                ]
              ],
              "status": 200,
              "status_text": ""
            }
          },
          "base_uri": "https://localhost:8080/",
          "height": 74
        },
        "id": "dNVrvXzS7RPZ",
        "outputId": "c26f9c3c-55b5-44ff-fcb4-741cb86e2594"
      },
      "outputs": [
        {
          "output_type": "display_data",
          "data": {
            "text/plain": [
              "<IPython.core.display.HTML object>"
            ],
            "text/html": [
              "\n",
              "     <input type=\"file\" id=\"files-b8483a4a-8ced-439e-8494-3f17aef8cc0f\" name=\"files[]\" multiple disabled\n",
              "        style=\"border:none\" />\n",
              "     <output id=\"result-b8483a4a-8ced-439e-8494-3f17aef8cc0f\">\n",
              "      Upload widget is only available when the cell has been executed in the\n",
              "      current browser session. Please rerun this cell to enable.\n",
              "      </output>\n",
              "      <script src=\"/nbextensions/google.colab/files.js\"></script> "
            ]
          },
          "metadata": {}
        },
        {
          "output_type": "stream",
          "name": "stdout",
          "text": [
            "Saving GrindSize Raw Data.xlsx to GrindSize Raw Data (1).xlsx\n"
          ]
        }
      ],
      "source": [
        "### Import raw data file\n",
        "from google.colab import files\n",
        "uploaded=files.upload()"
      ]
    },
    {
      "cell_type": "code",
      "source": [
        "import io\n",
        "raw_data = pd.read_excel(io.BytesIO(uploaded['GrindSize Raw Data.xlsx']))"
      ],
      "metadata": {
        "id": "6MJ8P04zCs-7"
      },
      "execution_count": null,
      "outputs": []
    },
    {
      "cell_type": "code",
      "source": [
        "raw_data.head(20)"
      ],
      "metadata": {
        "colab": {
          "base_uri": "https://localhost:8080/",
          "height": 930
        },
        "id": "XKlkTrC8FHEU",
        "outputId": "65733e5d-8054-443b-9c92-22c092102dfc"
      },
      "execution_count": null,
      "outputs": [
        {
          "output_type": "execute_result",
          "data": {
            "text/plain": [
              "                  Date Rod Mill Tonnage tph Rod Mill Water Flow Usgpm  \\\n",
              "0  2013-01-01 06:00:00           159.996931                119.166428   \n",
              "1  2013-01-02 06:00:00           155.968999                121.627277   \n",
              "2  2013-01-03 06:00:00           155.982331                121.755537   \n",
              "3  2013-01-04 06:00:00             0.061037                  0.030519   \n",
              "4  2013-01-05 06:00:00             0.061037                  0.030519   \n",
              "5  2013-01-06 06:00:00            155.95563                121.648648   \n",
              "6  2013-01-07 06:00:00           156.005002                121.422319   \n",
              "7  2013-01-08 06:00:00             0.061037                  0.627933   \n",
              "8  2013-01-09 06:00:00             0.061037                  0.038148   \n",
              "9  2013-01-10 06:00:00             0.022889                  0.038148   \n",
              "\n",
              "  Pump Box ReCycle Water cmph            Pump Box Process Water cmph  \\\n",
              "0                    65.05579                              34.940079   \n",
              "1                    74.73137                              40.253819   \n",
              "2                   93.620943                              23.396572   \n",
              "3                    2.785809  [-11059] No Good Data For Calculation   \n",
              "4                    2.880947  [-11059] No Good Data For Calculation   \n",
              "5                    82.69795                              20.708904   \n",
              "6                   82.138866                              20.540448   \n",
              "7                     3.37203  [-11059] No Good Data For Calculation   \n",
              "8                    3.251203  [-11059] No Good Data For Calculation   \n",
              "9                    3.173297  [-11059] No Good Data For Calculation   \n",
              "\n",
              "  Ball Mill Process Water cmph Rod Mill kW Ball Mill kW  # of Cyclone  \\\n",
              "0                    36.823228  566.927778  1306.875225           2.0   \n",
              "1                    40.466375  536.924948  1304.684595           2.0   \n",
              "2                    40.399002  557.222612   1293.50969           2.0   \n",
              "3                            0    1.245155            0           2.0   \n",
              "4                            0    1.538133            0           2.0   \n",
              "5                    35.307017  545.498283  1295.078341           2.0   \n",
              "6                     39.00011  565.583596  1304.806346           2.0   \n",
              "7                            0    4.816641            0           1.0   \n",
              "8                            0    1.977599            0           1.0   \n",
              "9                            0    1.977599            0           1.0   \n",
              "\n",
              "  Cyclone Pressure psi                  Cyclone Overflow %Sol  \\\n",
              "0             9.928975                              46.751768   \n",
              "1            10.232744                              47.024574   \n",
              "2            10.390768                              46.977012   \n",
              "3             0.262459  [-11059] No Good Data For Calculation   \n",
              "4             0.325022  [-11059] No Good Data For Calculation   \n",
              "5            10.545744                              46.145758   \n",
              "6            10.266011                              46.051834   \n",
              "7              0.23957  [-11059] No Good Data For Calculation   \n",
              "8             0.347912  [-11059] No Good Data For Calculation   \n",
              "9             0.302896  [-11059] No Good Data For Calculation   \n",
              "\n",
              "                                     Ni%  \\\n",
              "0                               0.630952   \n",
              "1                               2.106935   \n",
              "2                               2.125585   \n",
              "3  [-11059] No Good Data For Calculation   \n",
              "4  [-11059] No Good Data For Calculation   \n",
              "5                               1.773198   \n",
              "6                               1.895707   \n",
              "7  [-11059] No Good Data For Calculation   \n",
              "8  [-11059] No Good Data For Calculation   \n",
              "9  [-11059] No Good Data For Calculation   \n",
              "\n",
              "                                     Cu%  \\\n",
              "0                               4.247876   \n",
              "1                                5.88698   \n",
              "2                               6.191957   \n",
              "3  [-11059] No Good Data For Calculation   \n",
              "4  [-11059] No Good Data For Calculation   \n",
              "5                               5.007279   \n",
              "6                               5.327316   \n",
              "7  [-11059] No Good Data For Calculation   \n",
              "8  [-11059] No Good Data For Calculation   \n",
              "9  [-11059] No Good Data For Calculation   \n",
              "\n",
              "                                     Fe%  \\\n",
              "0                               8.287141   \n",
              "1                              13.828072   \n",
              "2                              13.448156   \n",
              "3  [-11059] No Good Data For Calculation   \n",
              "4  [-11059] No Good Data For Calculation   \n",
              "5                               11.94587   \n",
              "6                              12.673051   \n",
              "7  [-11059] No Good Data For Calculation   \n",
              "8  [-11059] No Good Data For Calculation   \n",
              "9  [-11059] No Good Data For Calculation   \n",
              "\n",
              "                                      S%      Feed Type NickelCopper  \\\n",
              "0                               4.758753      Cu Fraser       Copper   \n",
              "1                               9.168528  Cu Nickel Rim       Copper   \n",
              "2                                9.57534  Cu Nickel Rim       Copper   \n",
              "3  [-11059] No Good Data For Calculation  Cu Nickel Rim       Copper   \n",
              "4  [-11059] No Good Data For Calculation  Cu Nickel Rim       Copper   \n",
              "5                               7.564536  Cu Nickel Rim       Copper   \n",
              "6                               8.151054  Cu Nickel Rim       Copper   \n",
              "7  [-11059] No Good Data For Calculation  Cu Nickel Rim       Copper   \n",
              "8  [-11059] No Good Data For Calculation  Cu Nickel Rim       Copper   \n",
              "9  [-11059] No Good Data For Calculation  Cu Nickel Rim       Copper   \n",
              "\n",
              "  % Passing 200M  \n",
              "0      56.105263  \n",
              "1      58.994365  \n",
              "2      58.305085  \n",
              "3              0  \n",
              "4       61.59861  \n",
              "5      59.474482  \n",
              "6      57.165272  \n",
              "7           Down  \n",
              "8           Down  \n",
              "9              0  "
            ],
            "text/html": [
              "\n",
              "  <div id=\"df-45396ad7-5272-4512-aca6-f97fe6731824\">\n",
              "    <div class=\"colab-df-container\">\n",
              "      <div>\n",
              "<style scoped>\n",
              "    .dataframe tbody tr th:only-of-type {\n",
              "        vertical-align: middle;\n",
              "    }\n",
              "\n",
              "    .dataframe tbody tr th {\n",
              "        vertical-align: top;\n",
              "    }\n",
              "\n",
              "    .dataframe thead th {\n",
              "        text-align: right;\n",
              "    }\n",
              "</style>\n",
              "<table border=\"1\" class=\"dataframe\">\n",
              "  <thead>\n",
              "    <tr style=\"text-align: right;\">\n",
              "      <th></th>\n",
              "      <th>Date</th>\n",
              "      <th>Rod Mill Tonnage tph</th>\n",
              "      <th>Rod Mill Water Flow Usgpm</th>\n",
              "      <th>Pump Box ReCycle Water cmph</th>\n",
              "      <th>Pump Box Process Water cmph</th>\n",
              "      <th>Ball Mill Process Water cmph</th>\n",
              "      <th>Rod Mill kW</th>\n",
              "      <th>Ball Mill kW</th>\n",
              "      <th># of Cyclone</th>\n",
              "      <th>Cyclone Pressure psi</th>\n",
              "      <th>Cyclone Overflow %Sol</th>\n",
              "      <th>Ni%</th>\n",
              "      <th>Cu%</th>\n",
              "      <th>Fe%</th>\n",
              "      <th>S%</th>\n",
              "      <th>Feed Type</th>\n",
              "      <th>NickelCopper</th>\n",
              "      <th>% Passing 200M</th>\n",
              "    </tr>\n",
              "  </thead>\n",
              "  <tbody>\n",
              "    <tr>\n",
              "      <th>0</th>\n",
              "      <td>2013-01-01 06:00:00</td>\n",
              "      <td>159.996931</td>\n",
              "      <td>119.166428</td>\n",
              "      <td>65.05579</td>\n",
              "      <td>34.940079</td>\n",
              "      <td>36.823228</td>\n",
              "      <td>566.927778</td>\n",
              "      <td>1306.875225</td>\n",
              "      <td>2.0</td>\n",
              "      <td>9.928975</td>\n",
              "      <td>46.751768</td>\n",
              "      <td>0.630952</td>\n",
              "      <td>4.247876</td>\n",
              "      <td>8.287141</td>\n",
              "      <td>4.758753</td>\n",
              "      <td>Cu Fraser</td>\n",
              "      <td>Copper</td>\n",
              "      <td>56.105263</td>\n",
              "    </tr>\n",
              "    <tr>\n",
              "      <th>1</th>\n",
              "      <td>2013-01-02 06:00:00</td>\n",
              "      <td>155.968999</td>\n",
              "      <td>121.627277</td>\n",
              "      <td>74.73137</td>\n",
              "      <td>40.253819</td>\n",
              "      <td>40.466375</td>\n",
              "      <td>536.924948</td>\n",
              "      <td>1304.684595</td>\n",
              "      <td>2.0</td>\n",
              "      <td>10.232744</td>\n",
              "      <td>47.024574</td>\n",
              "      <td>2.106935</td>\n",
              "      <td>5.88698</td>\n",
              "      <td>13.828072</td>\n",
              "      <td>9.168528</td>\n",
              "      <td>Cu Nickel Rim</td>\n",
              "      <td>Copper</td>\n",
              "      <td>58.994365</td>\n",
              "    </tr>\n",
              "    <tr>\n",
              "      <th>2</th>\n",
              "      <td>2013-01-03 06:00:00</td>\n",
              "      <td>155.982331</td>\n",
              "      <td>121.755537</td>\n",
              "      <td>93.620943</td>\n",
              "      <td>23.396572</td>\n",
              "      <td>40.399002</td>\n",
              "      <td>557.222612</td>\n",
              "      <td>1293.50969</td>\n",
              "      <td>2.0</td>\n",
              "      <td>10.390768</td>\n",
              "      <td>46.977012</td>\n",
              "      <td>2.125585</td>\n",
              "      <td>6.191957</td>\n",
              "      <td>13.448156</td>\n",
              "      <td>9.57534</td>\n",
              "      <td>Cu Nickel Rim</td>\n",
              "      <td>Copper</td>\n",
              "      <td>58.305085</td>\n",
              "    </tr>\n",
              "    <tr>\n",
              "      <th>3</th>\n",
              "      <td>2013-01-04 06:00:00</td>\n",
              "      <td>0.061037</td>\n",
              "      <td>0.030519</td>\n",
              "      <td>2.785809</td>\n",
              "      <td>[-11059] No Good Data For Calculation</td>\n",
              "      <td>0</td>\n",
              "      <td>1.245155</td>\n",
              "      <td>0</td>\n",
              "      <td>2.0</td>\n",
              "      <td>0.262459</td>\n",
              "      <td>[-11059] No Good Data For Calculation</td>\n",
              "      <td>[-11059] No Good Data For Calculation</td>\n",
              "      <td>[-11059] No Good Data For Calculation</td>\n",
              "      <td>[-11059] No Good Data For Calculation</td>\n",
              "      <td>[-11059] No Good Data For Calculation</td>\n",
              "      <td>Cu Nickel Rim</td>\n",
              "      <td>Copper</td>\n",
              "      <td>0</td>\n",
              "    </tr>\n",
              "    <tr>\n",
              "      <th>4</th>\n",
              "      <td>2013-01-05 06:00:00</td>\n",
              "      <td>0.061037</td>\n",
              "      <td>0.030519</td>\n",
              "      <td>2.880947</td>\n",
              "      <td>[-11059] No Good Data For Calculation</td>\n",
              "      <td>0</td>\n",
              "      <td>1.538133</td>\n",
              "      <td>0</td>\n",
              "      <td>2.0</td>\n",
              "      <td>0.325022</td>\n",
              "      <td>[-11059] No Good Data For Calculation</td>\n",
              "      <td>[-11059] No Good Data For Calculation</td>\n",
              "      <td>[-11059] No Good Data For Calculation</td>\n",
              "      <td>[-11059] No Good Data For Calculation</td>\n",
              "      <td>[-11059] No Good Data For Calculation</td>\n",
              "      <td>Cu Nickel Rim</td>\n",
              "      <td>Copper</td>\n",
              "      <td>61.59861</td>\n",
              "    </tr>\n",
              "    <tr>\n",
              "      <th>5</th>\n",
              "      <td>2013-01-06 06:00:00</td>\n",
              "      <td>155.95563</td>\n",
              "      <td>121.648648</td>\n",
              "      <td>82.69795</td>\n",
              "      <td>20.708904</td>\n",
              "      <td>35.307017</td>\n",
              "      <td>545.498283</td>\n",
              "      <td>1295.078341</td>\n",
              "      <td>2.0</td>\n",
              "      <td>10.545744</td>\n",
              "      <td>46.145758</td>\n",
              "      <td>1.773198</td>\n",
              "      <td>5.007279</td>\n",
              "      <td>11.94587</td>\n",
              "      <td>7.564536</td>\n",
              "      <td>Cu Nickel Rim</td>\n",
              "      <td>Copper</td>\n",
              "      <td>59.474482</td>\n",
              "    </tr>\n",
              "    <tr>\n",
              "      <th>6</th>\n",
              "      <td>2013-01-07 06:00:00</td>\n",
              "      <td>156.005002</td>\n",
              "      <td>121.422319</td>\n",
              "      <td>82.138866</td>\n",
              "      <td>20.540448</td>\n",
              "      <td>39.00011</td>\n",
              "      <td>565.583596</td>\n",
              "      <td>1304.806346</td>\n",
              "      <td>2.0</td>\n",
              "      <td>10.266011</td>\n",
              "      <td>46.051834</td>\n",
              "      <td>1.895707</td>\n",
              "      <td>5.327316</td>\n",
              "      <td>12.673051</td>\n",
              "      <td>8.151054</td>\n",
              "      <td>Cu Nickel Rim</td>\n",
              "      <td>Copper</td>\n",
              "      <td>57.165272</td>\n",
              "    </tr>\n",
              "    <tr>\n",
              "      <th>7</th>\n",
              "      <td>2013-01-08 06:00:00</td>\n",
              "      <td>0.061037</td>\n",
              "      <td>0.627933</td>\n",
              "      <td>3.37203</td>\n",
              "      <td>[-11059] No Good Data For Calculation</td>\n",
              "      <td>0</td>\n",
              "      <td>4.816641</td>\n",
              "      <td>0</td>\n",
              "      <td>1.0</td>\n",
              "      <td>0.23957</td>\n",
              "      <td>[-11059] No Good Data For Calculation</td>\n",
              "      <td>[-11059] No Good Data For Calculation</td>\n",
              "      <td>[-11059] No Good Data For Calculation</td>\n",
              "      <td>[-11059] No Good Data For Calculation</td>\n",
              "      <td>[-11059] No Good Data For Calculation</td>\n",
              "      <td>Cu Nickel Rim</td>\n",
              "      <td>Copper</td>\n",
              "      <td>Down</td>\n",
              "    </tr>\n",
              "    <tr>\n",
              "      <th>8</th>\n",
              "      <td>2013-01-09 06:00:00</td>\n",
              "      <td>0.061037</td>\n",
              "      <td>0.038148</td>\n",
              "      <td>3.251203</td>\n",
              "      <td>[-11059] No Good Data For Calculation</td>\n",
              "      <td>0</td>\n",
              "      <td>1.977599</td>\n",
              "      <td>0</td>\n",
              "      <td>1.0</td>\n",
              "      <td>0.347912</td>\n",
              "      <td>[-11059] No Good Data For Calculation</td>\n",
              "      <td>[-11059] No Good Data For Calculation</td>\n",
              "      <td>[-11059] No Good Data For Calculation</td>\n",
              "      <td>[-11059] No Good Data For Calculation</td>\n",
              "      <td>[-11059] No Good Data For Calculation</td>\n",
              "      <td>Cu Nickel Rim</td>\n",
              "      <td>Copper</td>\n",
              "      <td>Down</td>\n",
              "    </tr>\n",
              "    <tr>\n",
              "      <th>9</th>\n",
              "      <td>2013-01-10 06:00:00</td>\n",
              "      <td>0.022889</td>\n",
              "      <td>0.038148</td>\n",
              "      <td>3.173297</td>\n",
              "      <td>[-11059] No Good Data For Calculation</td>\n",
              "      <td>0</td>\n",
              "      <td>1.977599</td>\n",
              "      <td>0</td>\n",
              "      <td>1.0</td>\n",
              "      <td>0.302896</td>\n",
              "      <td>[-11059] No Good Data For Calculation</td>\n",
              "      <td>[-11059] No Good Data For Calculation</td>\n",
              "      <td>[-11059] No Good Data For Calculation</td>\n",
              "      <td>[-11059] No Good Data For Calculation</td>\n",
              "      <td>[-11059] No Good Data For Calculation</td>\n",
              "      <td>Cu Nickel Rim</td>\n",
              "      <td>Copper</td>\n",
              "      <td>0</td>\n",
              "    </tr>\n",
              "  </tbody>\n",
              "</table>\n",
              "</div>\n",
              "      <button class=\"colab-df-convert\" onclick=\"convertToInteractive('df-45396ad7-5272-4512-aca6-f97fe6731824')\"\n",
              "              title=\"Convert this dataframe to an interactive table.\"\n",
              "              style=\"display:none;\">\n",
              "        \n",
              "  <svg xmlns=\"http://www.w3.org/2000/svg\" height=\"24px\"viewBox=\"0 0 24 24\"\n",
              "       width=\"24px\">\n",
              "    <path d=\"M0 0h24v24H0V0z\" fill=\"none\"/>\n",
              "    <path d=\"M18.56 5.44l.94 2.06.94-2.06 2.06-.94-2.06-.94-.94-2.06-.94 2.06-2.06.94zm-11 1L8.5 8.5l.94-2.06 2.06-.94-2.06-.94L8.5 2.5l-.94 2.06-2.06.94zm10 10l.94 2.06.94-2.06 2.06-.94-2.06-.94-.94-2.06-.94 2.06-2.06.94z\"/><path d=\"M17.41 7.96l-1.37-1.37c-.4-.4-.92-.59-1.43-.59-.52 0-1.04.2-1.43.59L10.3 9.45l-7.72 7.72c-.78.78-.78 2.05 0 2.83L4 21.41c.39.39.9.59 1.41.59.51 0 1.02-.2 1.41-.59l7.78-7.78 2.81-2.81c.8-.78.8-2.07 0-2.86zM5.41 20L4 18.59l7.72-7.72 1.47 1.35L5.41 20z\"/>\n",
              "  </svg>\n",
              "      </button>\n",
              "      \n",
              "  <style>\n",
              "    .colab-df-container {\n",
              "      display:flex;\n",
              "      flex-wrap:wrap;\n",
              "      gap: 12px;\n",
              "    }\n",
              "\n",
              "    .colab-df-convert {\n",
              "      background-color: #E8F0FE;\n",
              "      border: none;\n",
              "      border-radius: 50%;\n",
              "      cursor: pointer;\n",
              "      display: none;\n",
              "      fill: #1967D2;\n",
              "      height: 32px;\n",
              "      padding: 0 0 0 0;\n",
              "      width: 32px;\n",
              "    }\n",
              "\n",
              "    .colab-df-convert:hover {\n",
              "      background-color: #E2EBFA;\n",
              "      box-shadow: 0px 1px 2px rgba(60, 64, 67, 0.3), 0px 1px 3px 1px rgba(60, 64, 67, 0.15);\n",
              "      fill: #174EA6;\n",
              "    }\n",
              "\n",
              "    [theme=dark] .colab-df-convert {\n",
              "      background-color: #3B4455;\n",
              "      fill: #D2E3FC;\n",
              "    }\n",
              "\n",
              "    [theme=dark] .colab-df-convert:hover {\n",
              "      background-color: #434B5C;\n",
              "      box-shadow: 0px 1px 3px 1px rgba(0, 0, 0, 0.15);\n",
              "      filter: drop-shadow(0px 1px 2px rgba(0, 0, 0, 0.3));\n",
              "      fill: #FFFFFF;\n",
              "    }\n",
              "  </style>\n",
              "\n",
              "      <script>\n",
              "        const buttonEl =\n",
              "          document.querySelector('#df-45396ad7-5272-4512-aca6-f97fe6731824 button.colab-df-convert');\n",
              "        buttonEl.style.display =\n",
              "          google.colab.kernel.accessAllowed ? 'block' : 'none';\n",
              "\n",
              "        async function convertToInteractive(key) {\n",
              "          const element = document.querySelector('#df-45396ad7-5272-4512-aca6-f97fe6731824');\n",
              "          const dataTable =\n",
              "            await google.colab.kernel.invokeFunction('convertToInteractive',\n",
              "                                                     [key], {});\n",
              "          if (!dataTable) return;\n",
              "\n",
              "          const docLinkHtml = 'Like what you see? Visit the ' +\n",
              "            '<a target=\"_blank\" href=https://colab.research.google.com/notebooks/data_table.ipynb>data table notebook</a>'\n",
              "            + ' to learn more about interactive tables.';\n",
              "          element.innerHTML = '';\n",
              "          dataTable['output_type'] = 'display_data';\n",
              "          await google.colab.output.renderOutput(dataTable, element);\n",
              "          const docLink = document.createElement('div');\n",
              "          docLink.innerHTML = docLinkHtml;\n",
              "          element.appendChild(docLink);\n",
              "        }\n",
              "      </script>\n",
              "    </div>\n",
              "  </div>\n",
              "  "
            ]
          },
          "metadata": {},
          "execution_count": 14
        }
      ]
    },
    {
      "cell_type": "markdown",
      "source": [
        "## Data Cleaning"
      ],
      "metadata": {
        "id": "RnSYqciDIo3F"
      }
    },
    {
      "cell_type": "markdown",
      "source": [
        "One can notice that the dataset is not purely in numbers. There often exist error messages when the plant is down or when the measurement sensors are offline."
      ],
      "metadata": {
        "id": "tbX4ebwoISCt"
      }
    },
    {
      "cell_type": "code",
      "source": [
        "raw_data.info()"
      ],
      "metadata": {
        "colab": {
          "base_uri": "https://localhost:8080/"
        },
        "id": "fP8J4yvWIO8v",
        "outputId": "0f30b3fb-35b1-4ed5-8b87-233622908bbd"
      },
      "execution_count": null,
      "outputs": [
        {
          "output_type": "stream",
          "name": "stdout",
          "text": [
            "<class 'pandas.core.frame.DataFrame'>\n",
            "RangeIndex: 2998 entries, 0 to 2997\n",
            "Data columns (total 18 columns):\n",
            " #   Column                        Non-Null Count  Dtype  \n",
            "---  ------                        --------------  -----  \n",
            " 0   Date                          2998 non-null   object \n",
            " 1   Rod Mill Tonnage tph          2998 non-null   object \n",
            " 2   Rod Mill Water Flow Usgpm     2998 non-null   object \n",
            " 3   Pump Box ReCycle Water cmph   2998 non-null   object \n",
            " 4   Pump Box Process Water cmph   2998 non-null   object \n",
            " 5   Ball Mill Process Water cmph  2998 non-null   object \n",
            " 6   Rod Mill kW                   2998 non-null   object \n",
            " 7   Ball Mill kW                  2998 non-null   object \n",
            " 8   # of Cyclone                  2996 non-null   float64\n",
            " 9   Cyclone Pressure psi          2998 non-null   object \n",
            " 10  Cyclone Overflow %Sol         2998 non-null   object \n",
            " 11  Ni%                           2996 non-null   object \n",
            " 12  Cu%                           2996 non-null   object \n",
            " 13  Fe%                           2996 non-null   object \n",
            " 14  S%                            2996 non-null   object \n",
            " 15  Feed Type                     2998 non-null   object \n",
            " 16  NickelCopper                  2998 non-null   object \n",
            " 17  % Passing 200M                2584 non-null   object \n",
            "dtypes: float64(1), object(17)\n",
            "memory usage: 421.7+ KB\n"
          ]
        }
      ]
    },
    {
      "cell_type": "markdown",
      "source": [
        "One way to characterize particle size distribution is to measure the weight percentage of the sample passing through a sieve with fixed hole size. In this case, the plant measures the %Passing 200M (hole diameters = 75 micron). In general, the particle size distribution is considered to be on target when the \"%Passing 200M\" is around 55%. In other words, the plant wants at least 55% of the particles to be smaller than 75 micron. A low percentage would indicate that the particle size is too coarse, and a high percentage would indicate that the particle size is too small."
      ],
      "metadata": {
        "id": "3-ZzfzOdGTEt"
      }
    },
    {
      "cell_type": "markdown",
      "source": [
        ""
      ],
      "metadata": {
        "id": "YA0KD-XhH4sO"
      }
    }
  ]
}